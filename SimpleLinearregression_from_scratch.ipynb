{
 "cells": [
  {
   "cell_type": "code",
   "execution_count": 38,
   "id": "17f3d754-b64b-488d-81cb-9a2eb53d19f8",
   "metadata": {},
   "outputs": [],
   "source": [
    "class SLR():\n",
    "\n",
    "    def __init__(self):\n",
    "        self.m = None\n",
    "        self.b = None\n",
    "\n",
    "    def fit(self,X_train,Y_train):\n",
    "        num = 0\n",
    "        den = 0\n",
    "\n",
    "        for i in range(X_train.shape[0]):\n",
    "\n",
    "            num = num + ((X_train[i] - X_train.mean()) * (Y_train[i] - Y_train.mean()))\n",
    "            den = den + ((X_train[i] - X_train.mean()) * (X_train[i] - X_train.mean()))\n",
    "            \n",
    "        self.m = num/den\n",
    "        self.b = Y_train.mean() - (self.m * X_train.mean())\n",
    "\n",
    "    def predict(self, X_test):\n",
    "\n",
    "        return self.m * X_test + self.b"
   ]
  },
  {
   "cell_type": "code",
   "execution_count": 59,
   "id": "47e1e153-2459-48a8-94c8-ca7e4cc34ef7",
   "metadata": {},
   "outputs": [
    {
     "name": "stdout",
     "output_type": "stream",
     "text": [
      "Slope (m): 1.9975757575757573\n",
      "Intercept (b): 0.05333333333333634\n",
      "Predictions for X_test: [22.02666667 24.02424242 26.02181818]\n"
     ]
    }
   ],
   "source": [
    "# Dataset\n",
    "X_train = np.array([1, 2, 3, 4, 5, 6, 7, 8, 9, 10])\n",
    "Y_train = np.array([2.1, 4.0, 6.2, 8.1, 9.8, 11.9, 14.0, 16.2, 18.1, 20.0])\n",
    "X_test = np.array([11, 12, 13])\n",
    "\n",
    "# Test the model\n",
    "model = SLR()\n",
    "model.fit(X_train, Y_train)\n",
    "print(f\"Slope (m): {model.m}\")\n",
    "print(f\"Intercept (b): {model.b}\")\n",
    "predictions = model.predict(X_test)\n",
    "print(f\"Predictions for X_test: {predictions}\")"
   ]
  },
  {
   "cell_type": "code",
   "execution_count": null,
   "id": "b79c0a73-7922-4322-ba4b-42ff1ee5b9a7",
   "metadata": {},
   "outputs": [],
   "source": []
  }
 ],
 "metadata": {
  "kernelspec": {
   "display_name": "Python 3 (ipykernel)",
   "language": "python",
   "name": "python3"
  },
  "language_info": {
   "codemirror_mode": {
    "name": "ipython",
    "version": 3
   },
   "file_extension": ".py",
   "mimetype": "text/x-python",
   "name": "python",
   "nbconvert_exporter": "python",
   "pygments_lexer": "ipython3",
   "version": "3.12.7"
  }
 },
 "nbformat": 4,
 "nbformat_minor": 5
}
